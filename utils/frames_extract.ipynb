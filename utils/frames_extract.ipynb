{
  "nbformat": 4,
  "nbformat_minor": 0,
  "metadata": {
    "colab": {
      "provenance": []
    },
    "kernelspec": {
      "name": "python3",
      "display_name": "Python 3"
    },
    "language_info": {
      "name": "python"
    },
    "widgets": {
      "application/vnd.jupyter.widget-state+json": {
        "7856fd291bd94e9ba6402fad610aef7e": {
          "model_module": "@jupyter-widgets/controls",
          "model_name": "HBoxModel",
          "model_module_version": "1.5.0",
          "state": {
            "_dom_classes": [],
            "_model_module": "@jupyter-widgets/controls",
            "_model_module_version": "1.5.0",
            "_model_name": "HBoxModel",
            "_view_count": null,
            "_view_module": "@jupyter-widgets/controls",
            "_view_module_version": "1.5.0",
            "_view_name": "HBoxView",
            "box_style": "",
            "children": [
              "IPY_MODEL_a0af2c965adb4b61a89826bd673f11ce",
              "IPY_MODEL_9a99c56d1a324a8aaf89f3990c03e76d",
              "IPY_MODEL_0d6d8029dc6641f6b392de2bf16f4d9d"
            ],
            "layout": "IPY_MODEL_742be4d022024e9583d6caa1ba50e9ba"
          }
        },
        "a0af2c965adb4b61a89826bd673f11ce": {
          "model_module": "@jupyter-widgets/controls",
          "model_name": "HTMLModel",
          "model_module_version": "1.5.0",
          "state": {
            "_dom_classes": [],
            "_model_module": "@jupyter-widgets/controls",
            "_model_module_version": "1.5.0",
            "_model_name": "HTMLModel",
            "_view_count": null,
            "_view_module": "@jupyter-widgets/controls",
            "_view_module_version": "1.5.0",
            "_view_name": "HTMLView",
            "description": "",
            "description_tooltip": null,
            "layout": "IPY_MODEL_6bda0f302803405a957314b54dd8e216",
            "placeholder": "​",
            "style": "IPY_MODEL_45985ae04cd540cc9eb991b373974200",
            "value": "Progress: 100%"
          }
        },
        "9a99c56d1a324a8aaf89f3990c03e76d": {
          "model_module": "@jupyter-widgets/controls",
          "model_name": "FloatProgressModel",
          "model_module_version": "1.5.0",
          "state": {
            "_dom_classes": [],
            "_model_module": "@jupyter-widgets/controls",
            "_model_module_version": "1.5.0",
            "_model_name": "FloatProgressModel",
            "_view_count": null,
            "_view_module": "@jupyter-widgets/controls",
            "_view_module_version": "1.5.0",
            "_view_name": "ProgressView",
            "bar_style": "success",
            "description": "",
            "description_tooltip": null,
            "layout": "IPY_MODEL_62aa15f720a44c9a8e39e3f512eaf79c",
            "max": 163233,
            "min": 0,
            "orientation": "horizontal",
            "style": "IPY_MODEL_2cfe2792901947b6af1713c18f1693fd",
            "value": 163233
          }
        },
        "0d6d8029dc6641f6b392de2bf16f4d9d": {
          "model_module": "@jupyter-widgets/controls",
          "model_name": "HTMLModel",
          "model_module_version": "1.5.0",
          "state": {
            "_dom_classes": [],
            "_model_module": "@jupyter-widgets/controls",
            "_model_module_version": "1.5.0",
            "_model_name": "HTMLModel",
            "_view_count": null,
            "_view_module": "@jupyter-widgets/controls",
            "_view_module_version": "1.5.0",
            "_view_name": "HTMLView",
            "description": "",
            "description_tooltip": null,
            "layout": "IPY_MODEL_4bbd86182ccd42d994b5e16d8913d3ba",
            "placeholder": "​",
            "style": "IPY_MODEL_a4fccad725e84071885fb8cfdcc8d939",
            "value": " 163233/163233 [07:45&lt;00:00, 417.52it/s]"
          }
        },
        "742be4d022024e9583d6caa1ba50e9ba": {
          "model_module": "@jupyter-widgets/base",
          "model_name": "LayoutModel",
          "model_module_version": "1.2.0",
          "state": {
            "_model_module": "@jupyter-widgets/base",
            "_model_module_version": "1.2.0",
            "_model_name": "LayoutModel",
            "_view_count": null,
            "_view_module": "@jupyter-widgets/base",
            "_view_module_version": "1.2.0",
            "_view_name": "LayoutView",
            "align_content": null,
            "align_items": null,
            "align_self": null,
            "border": null,
            "bottom": null,
            "display": null,
            "flex": null,
            "flex_flow": null,
            "grid_area": null,
            "grid_auto_columns": null,
            "grid_auto_flow": null,
            "grid_auto_rows": null,
            "grid_column": null,
            "grid_gap": null,
            "grid_row": null,
            "grid_template_areas": null,
            "grid_template_columns": null,
            "grid_template_rows": null,
            "height": null,
            "justify_content": null,
            "justify_items": null,
            "left": null,
            "margin": null,
            "max_height": null,
            "max_width": null,
            "min_height": null,
            "min_width": null,
            "object_fit": null,
            "object_position": null,
            "order": null,
            "overflow": null,
            "overflow_x": null,
            "overflow_y": null,
            "padding": null,
            "right": null,
            "top": null,
            "visibility": null,
            "width": null
          }
        },
        "6bda0f302803405a957314b54dd8e216": {
          "model_module": "@jupyter-widgets/base",
          "model_name": "LayoutModel",
          "model_module_version": "1.2.0",
          "state": {
            "_model_module": "@jupyter-widgets/base",
            "_model_module_version": "1.2.0",
            "_model_name": "LayoutModel",
            "_view_count": null,
            "_view_module": "@jupyter-widgets/base",
            "_view_module_version": "1.2.0",
            "_view_name": "LayoutView",
            "align_content": null,
            "align_items": null,
            "align_self": null,
            "border": null,
            "bottom": null,
            "display": null,
            "flex": null,
            "flex_flow": null,
            "grid_area": null,
            "grid_auto_columns": null,
            "grid_auto_flow": null,
            "grid_auto_rows": null,
            "grid_column": null,
            "grid_gap": null,
            "grid_row": null,
            "grid_template_areas": null,
            "grid_template_columns": null,
            "grid_template_rows": null,
            "height": null,
            "justify_content": null,
            "justify_items": null,
            "left": null,
            "margin": null,
            "max_height": null,
            "max_width": null,
            "min_height": null,
            "min_width": null,
            "object_fit": null,
            "object_position": null,
            "order": null,
            "overflow": null,
            "overflow_x": null,
            "overflow_y": null,
            "padding": null,
            "right": null,
            "top": null,
            "visibility": null,
            "width": null
          }
        },
        "45985ae04cd540cc9eb991b373974200": {
          "model_module": "@jupyter-widgets/controls",
          "model_name": "DescriptionStyleModel",
          "model_module_version": "1.5.0",
          "state": {
            "_model_module": "@jupyter-widgets/controls",
            "_model_module_version": "1.5.0",
            "_model_name": "DescriptionStyleModel",
            "_view_count": null,
            "_view_module": "@jupyter-widgets/base",
            "_view_module_version": "1.2.0",
            "_view_name": "StyleView",
            "description_width": ""
          }
        },
        "62aa15f720a44c9a8e39e3f512eaf79c": {
          "model_module": "@jupyter-widgets/base",
          "model_name": "LayoutModel",
          "model_module_version": "1.2.0",
          "state": {
            "_model_module": "@jupyter-widgets/base",
            "_model_module_version": "1.2.0",
            "_model_name": "LayoutModel",
            "_view_count": null,
            "_view_module": "@jupyter-widgets/base",
            "_view_module_version": "1.2.0",
            "_view_name": "LayoutView",
            "align_content": null,
            "align_items": null,
            "align_self": null,
            "border": null,
            "bottom": null,
            "display": null,
            "flex": null,
            "flex_flow": null,
            "grid_area": null,
            "grid_auto_columns": null,
            "grid_auto_flow": null,
            "grid_auto_rows": null,
            "grid_column": null,
            "grid_gap": null,
            "grid_row": null,
            "grid_template_areas": null,
            "grid_template_columns": null,
            "grid_template_rows": null,
            "height": null,
            "justify_content": null,
            "justify_items": null,
            "left": null,
            "margin": null,
            "max_height": null,
            "max_width": null,
            "min_height": null,
            "min_width": null,
            "object_fit": null,
            "object_position": null,
            "order": null,
            "overflow": null,
            "overflow_x": null,
            "overflow_y": null,
            "padding": null,
            "right": null,
            "top": null,
            "visibility": null,
            "width": null
          }
        },
        "2cfe2792901947b6af1713c18f1693fd": {
          "model_module": "@jupyter-widgets/controls",
          "model_name": "ProgressStyleModel",
          "model_module_version": "1.5.0",
          "state": {
            "_model_module": "@jupyter-widgets/controls",
            "_model_module_version": "1.5.0",
            "_model_name": "ProgressStyleModel",
            "_view_count": null,
            "_view_module": "@jupyter-widgets/base",
            "_view_module_version": "1.2.0",
            "_view_name": "StyleView",
            "bar_color": null,
            "description_width": ""
          }
        },
        "4bbd86182ccd42d994b5e16d8913d3ba": {
          "model_module": "@jupyter-widgets/base",
          "model_name": "LayoutModel",
          "model_module_version": "1.2.0",
          "state": {
            "_model_module": "@jupyter-widgets/base",
            "_model_module_version": "1.2.0",
            "_model_name": "LayoutModel",
            "_view_count": null,
            "_view_module": "@jupyter-widgets/base",
            "_view_module_version": "1.2.0",
            "_view_name": "LayoutView",
            "align_content": null,
            "align_items": null,
            "align_self": null,
            "border": null,
            "bottom": null,
            "display": null,
            "flex": null,
            "flex_flow": null,
            "grid_area": null,
            "grid_auto_columns": null,
            "grid_auto_flow": null,
            "grid_auto_rows": null,
            "grid_column": null,
            "grid_gap": null,
            "grid_row": null,
            "grid_template_areas": null,
            "grid_template_columns": null,
            "grid_template_rows": null,
            "height": null,
            "justify_content": null,
            "justify_items": null,
            "left": null,
            "margin": null,
            "max_height": null,
            "max_width": null,
            "min_height": null,
            "min_width": null,
            "object_fit": null,
            "object_position": null,
            "order": null,
            "overflow": null,
            "overflow_x": null,
            "overflow_y": null,
            "padding": null,
            "right": null,
            "top": null,
            "visibility": null,
            "width": null
          }
        },
        "a4fccad725e84071885fb8cfdcc8d939": {
          "model_module": "@jupyter-widgets/controls",
          "model_name": "DescriptionStyleModel",
          "model_module_version": "1.5.0",
          "state": {
            "_model_module": "@jupyter-widgets/controls",
            "_model_module_version": "1.5.0",
            "_model_name": "DescriptionStyleModel",
            "_view_count": null,
            "_view_module": "@jupyter-widgets/base",
            "_view_module_version": "1.2.0",
            "_view_name": "StyleView",
            "description_width": ""
          }
        }
      }
    }
  },
  "cells": [
    {
      "cell_type": "code",
      "execution_count": 1,
      "metadata": {
        "id": "1x8vF3wY5_mn"
      },
      "outputs": [],
      "source": [
        "import cv2\n",
        "import os, time\n",
        "import random, shutil\n",
        "import numpy as np\n",
        "from tqdm.notebook import tqdm\n",
        "from google.colab.patches import cv2_imshow"
      ]
    },
    {
      "cell_type": "code",
      "source": [
        "from google.colab import drive\n",
        "drive.mount('/content/drive')"
      ],
      "metadata": {
        "colab": {
          "base_uri": "https://localhost:8080/"
        },
        "id": "Yf3oPGC76HZR",
        "outputId": "86b1d714-ee12-4a0a-dfef-36d4338b1cf6"
      },
      "execution_count": 2,
      "outputs": [
        {
          "output_type": "stream",
          "name": "stdout",
          "text": [
            "Drive already mounted at /content/drive; to attempt to forcibly remount, call drive.mount(\"/content/drive\", force_remount=True).\n"
          ]
        }
      ]
    },
    {
      "cell_type": "code",
      "source": [
        "%%capture\n",
        "def delete_folder_contents(folder_path):\n",
        "    # Iterate over all files in the folder\n",
        "    for filename in os.listdir(folder_path):\n",
        "        file_path = os.path.join(folder_path, filename)\n",
        "        # Check if the path is a file (not a directory)\n",
        "        if os.path.isfile(file_path):\n",
        "            # Delete the file\n",
        "            os.remove(file_path)\n",
        "            print(f\"Deleted file: {file_path}\")\n",
        "\n",
        "def delete_folder_if_not_empty(folder_path):\n",
        "    # Check if the folder is empty\n",
        "    if any(True for _ in os.scandir(folder_path)):\n",
        "        # Folder is not empty, delete its contents\n",
        "        delete_folder_contents(folder_path)\n",
        "        # Delete the folder itself\n",
        "        os.rmdir(folder_path)\n",
        "        print(f\"Deleted folder: {folder_path}\")\n",
        "    else:\n",
        "        print(f\"Folder is empty, not deleted: {folder_path}\")\n",
        "\n",
        "folder_to_delete = '/content/drive/MyDrive/frames/images'\n",
        "delete_folder_if_not_empty(folder_to_delete)"
      ],
      "metadata": {
        "id": "trpUuiexKIvl"
      },
      "execution_count": 12,
      "outputs": []
    },
    {
      "cell_type": "code",
      "source": [
        "def delete_folder_contents(folder_path):\n",
        "    # Iterate over all files in the folder\n",
        "    for filename in os.listdir(folder_path):\n",
        "        file_path = os.path.join(folder_path, filename)\n",
        "        # Check if the path is a file (not a directory)\n",
        "        if os.path.isfile(file_path):\n",
        "            # Delete the file\n",
        "            os.remove(file_path)\n",
        "            print(f\"Deleted file: {file_path}\")\n",
        "\n",
        "def delete_folder_if_not_empty(folder_path):\n",
        "    # Check if the folder is empty\n",
        "    if any(True for _ in os.scandir(folder_path)):\n",
        "        # Folder is not empty, delete its contents\n",
        "        delete_folder_contents(folder_path)\n",
        "        # Delete the folder itself\n",
        "        os.rmdir(folder_path)\n",
        "        print(f\"Deleted folder: {folder_path}\")\n",
        "    else:\n",
        "        print(f\"Folder is empty, not deleted: {folder_path}\")\n",
        "\n",
        "folder_to_delete = '/content/drive/MyDrive/frames'\n",
        "delete_folder_if_not_empty(folder_to_delete)"
      ],
      "metadata": {
        "colab": {
          "base_uri": "https://localhost:8080/",
          "height": 297
        },
        "id": "DHEsXjrXMj58",
        "outputId": "88b005e6-1d73-443d-c17e-4be7d268086a"
      },
      "execution_count": 15,
      "outputs": [
        {
          "output_type": "error",
          "ename": "FileNotFoundError",
          "evalue": "[Errno 2] No such file or directory: '/content/drive/MyDrive/frames'",
          "traceback": [
            "\u001b[0;31m---------------------------------------------------------------------------\u001b[0m",
            "\u001b[0;31mFileNotFoundError\u001b[0m                         Traceback (most recent call last)",
            "\u001b[0;32m<ipython-input-15-06d6cba3f30d>\u001b[0m in \u001b[0;36m<cell line: 23>\u001b[0;34m()\u001b[0m\n\u001b[1;32m     21\u001b[0m \u001b[0;34m\u001b[0m\u001b[0m\n\u001b[1;32m     22\u001b[0m \u001b[0mfolder_to_delete\u001b[0m \u001b[0;34m=\u001b[0m \u001b[0;34m'/content/drive/MyDrive/frames'\u001b[0m\u001b[0;34m\u001b[0m\u001b[0;34m\u001b[0m\u001b[0m\n\u001b[0;32m---> 23\u001b[0;31m \u001b[0mdelete_folder_if_not_empty\u001b[0m\u001b[0;34m(\u001b[0m\u001b[0mfolder_to_delete\u001b[0m\u001b[0;34m)\u001b[0m\u001b[0;34m\u001b[0m\u001b[0;34m\u001b[0m\u001b[0m\n\u001b[0m",
            "\u001b[0;32m<ipython-input-15-06d6cba3f30d>\u001b[0m in \u001b[0;36mdelete_folder_if_not_empty\u001b[0;34m(folder_path)\u001b[0m\n\u001b[1;32m     11\u001b[0m \u001b[0;32mdef\u001b[0m \u001b[0mdelete_folder_if_not_empty\u001b[0m\u001b[0;34m(\u001b[0m\u001b[0mfolder_path\u001b[0m\u001b[0;34m)\u001b[0m\u001b[0;34m:\u001b[0m\u001b[0;34m\u001b[0m\u001b[0;34m\u001b[0m\u001b[0m\n\u001b[1;32m     12\u001b[0m     \u001b[0;31m# Check if the folder is empty\u001b[0m\u001b[0;34m\u001b[0m\u001b[0;34m\u001b[0m\u001b[0m\n\u001b[0;32m---> 13\u001b[0;31m     \u001b[0;32mif\u001b[0m \u001b[0many\u001b[0m\u001b[0;34m(\u001b[0m\u001b[0;32mTrue\u001b[0m \u001b[0;32mfor\u001b[0m \u001b[0m_\u001b[0m \u001b[0;32min\u001b[0m \u001b[0mos\u001b[0m\u001b[0;34m.\u001b[0m\u001b[0mscandir\u001b[0m\u001b[0;34m(\u001b[0m\u001b[0mfolder_path\u001b[0m\u001b[0;34m)\u001b[0m\u001b[0;34m)\u001b[0m\u001b[0;34m:\u001b[0m\u001b[0;34m\u001b[0m\u001b[0;34m\u001b[0m\u001b[0m\n\u001b[0m\u001b[1;32m     14\u001b[0m         \u001b[0;31m# Folder is not empty, delete its contents\u001b[0m\u001b[0;34m\u001b[0m\u001b[0;34m\u001b[0m\u001b[0m\n\u001b[1;32m     15\u001b[0m         \u001b[0mdelete_folder_contents\u001b[0m\u001b[0;34m(\u001b[0m\u001b[0mfolder_path\u001b[0m\u001b[0;34m)\u001b[0m\u001b[0;34m\u001b[0m\u001b[0;34m\u001b[0m\u001b[0m\n",
            "\u001b[0;31mFileNotFoundError\u001b[0m: [Errno 2] No such file or directory: '/content/drive/MyDrive/frames'"
          ]
        }
      ]
    },
    {
      "cell_type": "code",
      "source": [
        "# Directory principale in cui si trova il file da eliminare\n",
        "main_output_dir = '/content/drive/MyDrive/frames'\n",
        "file_name = 'selected_frames.txt'\n",
        "\n",
        "# Percorso completo del file da eliminare\n",
        "file_path = os.path.join(main_output_dir, main_output_dir, file_name)\n",
        "\n",
        "# Verifica se il file esiste prima di eliminarlo\n",
        "if os.path.exists(file_path):\n",
        "    os.remove(file_path)\n",
        "    print(f\"Il file '{file_name}' è stato eliminato con successo.\")\n",
        "else:\n",
        "    print(f\"Il file '{file_name}' non esiste.\")"
      ],
      "metadata": {
        "colab": {
          "base_uri": "https://localhost:8080/"
        },
        "id": "xiBtMPZ1JWVn",
        "outputId": "f8237e50-eb74-4d08-ff33-933880bf192f"
      },
      "execution_count": 13,
      "outputs": [
        {
          "output_type": "stream",
          "name": "stdout",
          "text": [
            "Il file 'selected_frames.txt' è stato eliminato con successo.\n"
          ]
        }
      ]
    },
    {
      "cell_type": "code",
      "source": [
        "# Path to the video file\n",
        "video_path = '/content/drive/MyDrive/Modena.mp4'\n",
        "\n",
        "# Check if the video file exists\n",
        "if not os.path.isfile(video_path):\n",
        "    print(f\"Error: Video file '{video_path}' not found.\")\n",
        "    exit()\n",
        "else:\n",
        "    print(f\"Video file '{video_path}' found.\")\n",
        "\n",
        "# Output directory to save frames\n",
        "output_dir = '/content/drive/MyDrive/frames/images'\n",
        "os.makedirs(output_dir, exist_ok=True)\n",
        "\n",
        "# Check if the output directory is valid\n",
        "if not os.path.isdir(output_dir):\n",
        "    print(f\"Error: Output directory '{output_dir}' is not valid.\")\n",
        "    exit()\n",
        "\n",
        "# Open the video file\n",
        "cap = cv2.VideoCapture(video_path)\n",
        "\n",
        "# Check if the video file is opened successfully\n",
        "if not cap.isOpened():\n",
        "    print(\"Error: Could not open the video file.\")\n",
        "    exit()\n",
        "\n",
        "# Get total number of frames\n",
        "total_frames = int(cap.get(cv2.CAP_PROP_FRAME_COUNT))\n",
        "print(total_frames)\n",
        "\n",
        "# Number of random frames to extract\n",
        "num_frames_to_extract = 3000\n",
        "ITERATIONS = total_frames\n",
        "\n",
        "# Randomly select frames\n",
        "selected_frames = random.sample(range(total_frames), num_frames_to_extract)\n",
        "selected_frames.sort()\n",
        "\n",
        "# Check if the specified number of frames to extract is valid\n",
        "if num_frames_to_extract > total_frames:\n",
        "    print(f\"Error: Number of frames to extract ({num_frames_to_extract}) \"\n",
        "          f\"exceeds total number of frames in the video ({total_frames}).\")\n",
        "    exit()"
      ],
      "metadata": {
        "colab": {
          "base_uri": "https://localhost:8080/"
        },
        "id": "SMhpWTUV7moO",
        "outputId": "c19faff4-d5cb-4c21-97eb-69e97308bdab"
      },
      "execution_count": 16,
      "outputs": [
        {
          "output_type": "stream",
          "name": "stdout",
          "text": [
            "Video file '/content/drive/MyDrive/Modena.mp4' found.\n",
            "163233\n"
          ]
        }
      ]
    },
    {
      "cell_type": "code",
      "source": [
        "# Initialize the tqdm progress bar with the total number of iterations\n",
        "with tqdm(total=ITERATIONS, desc=\"Progress\") as pbar:\n",
        "    frame_count = 0\n",
        "    while True:\n",
        "        ret, frame = cap.read()\n",
        "        if not ret:\n",
        "            break\n",
        "\n",
        "        if frame_count in selected_frames:\n",
        "            # Save frame as an image\n",
        "            frame_filename = os.path.join(output_dir, f'frame_{frame_count}.jpg')\n",
        "            cv2.imwrite(frame_filename, frame)\n",
        "\n",
        "        frame_count += 1\n",
        "\n",
        "        # Check if all selected frames are extracted\n",
        "        if len(selected_frames) == 0:\n",
        "            break\n",
        "\n",
        "        # Update the progress bar\n",
        "        pbar.update(1)\n",
        "\n",
        "# Release the video capture object\n",
        "cap.release()\n",
        "\n",
        "print(f'{num_frames_to_extract} frames extracted and saved to {output_dir}.')"
      ],
      "metadata": {
        "colab": {
          "base_uri": "https://localhost:8080/",
          "height": 66,
          "referenced_widgets": [
            "7856fd291bd94e9ba6402fad610aef7e",
            "a0af2c965adb4b61a89826bd673f11ce",
            "9a99c56d1a324a8aaf89f3990c03e76d",
            "0d6d8029dc6641f6b392de2bf16f4d9d",
            "742be4d022024e9583d6caa1ba50e9ba",
            "6bda0f302803405a957314b54dd8e216",
            "45985ae04cd540cc9eb991b373974200",
            "62aa15f720a44c9a8e39e3f512eaf79c",
            "2cfe2792901947b6af1713c18f1693fd",
            "4bbd86182ccd42d994b5e16d8913d3ba",
            "a4fccad725e84071885fb8cfdcc8d939"
          ]
        },
        "id": "ht07G_Dy6FaF",
        "outputId": "a489ed2f-8c61-40c9-d079-fe1f299768e6"
      },
      "execution_count": 17,
      "outputs": [
        {
          "output_type": "display_data",
          "data": {
            "text/plain": [
              "Progress:   0%|          | 0/163233 [00:00<?, ?it/s]"
            ],
            "application/vnd.jupyter.widget-view+json": {
              "version_major": 2,
              "version_minor": 0,
              "model_id": "7856fd291bd94e9ba6402fad610aef7e"
            }
          },
          "metadata": {}
        },
        {
          "output_type": "stream",
          "name": "stdout",
          "text": [
            "3000 frames extracted and saved to /content/drive/MyDrive/frames/images.\n"
          ]
        }
      ]
    },
    {
      "cell_type": "code",
      "source": [
        "# Percorso completo del file di testo da creare\n",
        "output_dir = '/content/drive/MyDrive/frames'\n",
        "file_path = os.path.join(output_dir, 'selected_frames.txt')\n",
        "\n",
        "# Scrivere i frame selezionati nel file di testo\n",
        "with open(file_path, 'w') as file:\n",
        "    for frame in selected_frames:\n",
        "        file.write(f\"{frame}\\n\")\n",
        "\n",
        "print(f\"Il contenuto della variabile 'selected_frames' è stato scritto nel file '{file_path}'.\")\n"
      ],
      "metadata": {
        "colab": {
          "base_uri": "https://localhost:8080/"
        },
        "id": "pyTIzIftGrDJ",
        "outputId": "1bc305cc-a65e-46e0-c013-729d508fa223"
      },
      "execution_count": 18,
      "outputs": [
        {
          "output_type": "stream",
          "name": "stdout",
          "text": [
            "Il contenuto della variabile 'selected_frames' è stato scritto nel file '/content/drive/MyDrive/frames/selected_frames.txt'.\n"
          ]
        }
      ]
    }
  ]
}